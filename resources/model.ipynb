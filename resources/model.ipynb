{
 "cells": [
  {
   "cell_type": "markdown",
   "id": "66a88870",
   "metadata": {},
   "source": [
    "### Импорт нужных библиотек"
   ]
  },
  {
   "cell_type": "code",
   "execution_count": 2,
   "id": "3e053666-8d81-4427-8c1f-e6b3743ca655",
   "metadata": {},
   "outputs": [
    {
     "name": "stderr",
     "output_type": "stream",
     "text": [
      "/home/valera/ds_bootcamp/ds-phase-2/10-nlp/myenv_week8/lib/python3.10/site-packages/tqdm/auto.py:21: TqdmWarning: IProgress not found. Please update jupyter and ipywidgets. See https://ipywidgets.readthedocs.io/en/stable/user_install.html\n",
      "  from .autonotebook import tqdm as notebook_tqdm\n"
     ]
    }
   ],
   "source": [
    "import pandas as pd\n",
    "from sentence_transformers import SentenceTransformer, util\n",
    "from transformers import AutoTokenizer, AutoModel\n",
    "import faiss\n",
    "model = SentenceTransformer(\"cointegrated/rubert-tiny2\")\n",
    "import numpy as np\n"
   ]
  },
  {
   "cell_type": "code",
   "execution_count": 3,
   "id": "ad82446f-11dd-46b8-a74d-d2c683010af1",
   "metadata": {},
   "outputs": [],
   "source": [
    "# Считывание Датафрейма pd.read_csv(\"ПУТЬ К ДАТАФРЕЙМУ\")\n",
    "df = pd.read_csv(\"/home/valera/ds_bootcamp/ds-phase-2/11-nn-ext/progect/resources/movies.csv\")"
   ]
  },
  {
   "cell_type": "markdown",
   "id": "01f430d2",
   "metadata": {},
   "source": [
    "#### Основные функций обработки Датафрейма \n",
    "##### Учтите, что если формат данный в вашем датафрейме отличается, возможно нужно будет использовать другие конструкций обработки \n",
    "##### На ембединг обработка не повлияет, обработка нужна для корректной работы фильтров"
   ]
  },
  {
   "cell_type": "code",
   "execution_count": 100,
   "id": "fea7ec69",
   "metadata": {},
   "outputs": [
    {
     "name": "stderr",
     "output_type": "stream",
     "text": [
      "/tmp/ipykernel_27737/38251508.py:14: FutureWarning: A value is trying to be set on a copy of a DataFrame or Series through chained assignment using an inplace method.\n",
      "The behavior will change in pandas 3.0. This inplace method will never work because the intermediate object on which we are setting values always behaves as a copy.\n",
      "\n",
      "For example, when doing 'df[col].method(value, inplace=True)', try using 'df.method({col: value}, inplace=True)' or df[col] = df[col].method(value) instead, to perform the operation inplace on the original object.\n",
      "\n",
      "\n",
      "  df['director'].fillna('Нет данных', inplace= True)\n"
     ]
    }
   ],
   "source": [
    "#import re\n",
    "#df[\"genres\"] = df[\"genres\"].apply(lambda x: re.sub(r'[\\\"\\'{}\\[\\]]', '', x))\n",
    "\n",
    "# df['genres'] = df['genres'].apply(lambda x: x.replace('[','').replace(']','').replace(' ','').replace(\"'\",\"\").split(','))\n",
    "\n",
    "# #  изменение даты из типа строка в целочисленное \n",
    "# df['year'] = df['year'].apply(lambda x: int(x))\n",
    "\n",
    "# # удаление описания мменьше 55 символов\n",
    "# df = df[df[\"description\"].str.len() >= 55]\n",
    "\n",
    "#df['imdb'].fillna(0.0, inplace= True)\n",
    "#df['genres'].fillna('Нет данных', inplace= True)\n",
    "#df['director'].fillna('Нет данных', inplace= True)\n",
    "\n",
    "\n",
    "# df.drop_duplicates(ignore_index= True , inplace= True)\n",
    "\n",
    "#df.drop('embeddings',axis=1, inplace= True)\n",
    "\n",
    "#df.loc[df[\"img_url\"] == \"/img/v2/nopicture/308x462@2x.png\", \"img_url\"] = \"https://upload.wikimedia.org/wikipedia/commons/a/a1/Out_Of_Poster.jpg\"\n",
    "\n",
    "#df['genres'] = df['genres'].apply(lambda x: 'Нет данных' if pd.isna(x) else x )"
   ]
  },
  {
   "cell_type": "markdown",
   "id": "c8ebbeac",
   "metadata": {},
   "source": [
    "#### Сохранение обработаного датафрейма"
   ]
  },
  {
   "cell_type": "code",
   "execution_count": 79,
   "id": "0b17dbc5",
   "metadata": {},
   "outputs": [],
   "source": [
    "#df.to_csv('/home/valera/ds_bootcamp/ds-phase-2/11-nn-ext/progect/movies_data2.csv', index = False)"
   ]
  },
  {
   "cell_type": "code",
   "execution_count": 6,
   "id": "ea95f73a",
   "metadata": {},
   "outputs": [
    {
     "name": "stdout",
     "output_type": "stream",
     "text": [
      "/home/valera/Загрузки\n"
     ]
    }
   ],
   "source": []
  },
  {
   "cell_type": "markdown",
   "id": "494f5c44",
   "metadata": {},
   "source": [
    "### Создание индексов и ембедингов для поиска по синусному сходству"
   ]
  },
  {
   "cell_type": "code",
   "execution_count": 15,
   "id": "7e90cc21",
   "metadata": {},
   "outputs": [],
   "source": [
    "import numpy as np\n",
    "\n",
    "\n",
    "# создаем вектора вложений с помощью модели SentenceTransformer\n",
    "embeddings = model.encode(df[\"description\"])\n",
    "\n",
    "# # # создаем индекс Faiss \n",
    "index = faiss.IndexFlatIP(embeddings.shape[1])\n",
    "\n",
    "# # # добавляем вектора вложений в индекс Faiss\n",
    "index.add(np.array(df['embeddings'].tolist()))"
   ]
  },
  {
   "cell_type": "markdown",
   "id": "6c102449",
   "metadata": {},
   "source": [
    "### Создание индексов и ембедингов для поиска по синусному сходству с применение SVD"
   ]
  },
  {
   "cell_type": "code",
   "execution_count": null,
   "id": "1ef4e412",
   "metadata": {},
   "outputs": [],
   "source": [
    "# # С этим пораметром  можно поиграться и посмотреть как оно работает.  Мне кажется что около 35-10 лучше всего работает\n",
    "# # Где то больше лучше, где-то меньше. На маленьких размерностях лучше ищет не очень часто встречающиеся термины.\n",
    "# # Понижаем размерность эмбедингов с 312 компонентов до num_components \n",
    "num_components = 15\n",
    "n=5\n",
    "# Сингулярное разложение эмбедингов #####################\n",
    "U, S, V = np.linalg.svd(embeddings, full_matrices=False)#\n",
    "                                                        #\n",
    "U = U[:, :num_components]                               #\n",
    "S = np.diag(S[:num_components])                         #\n",
    "V = V[:num_components, :]                               #\n",
    "                                                        #\n",
    "                                                        #\n",
    "reduced_embeddings = np.dot(U, np.dot(S, V))            #\n",
    "reduced_embeddings.shape                                #\n",
    "#########################################################   \n",
    "\n",
    "# Делаем новый индекс с разложенными эмбедингами\n",
    "reduced_index = faiss.IndexFlatIP(reduced_embeddings.shape[1])\n",
    "reduced_index.add(reduced_embeddings)\n",
    "\n",
    "# Сингулярное разложение текста от юзера ##########################################\n",
    "user_input = model.encode(\"Дружба\")                                               #\n",
    "user_input = user_input.reshape(1, -1)                                            #\n",
    "                                                                                  #\n",
    "U_reduced, S_reduced, Vt_reduced = np.linalg.svd(user_input, full_matrices=False) #\n",
    "                                                                                  #\n",
    "U_reduced = U_reduced[:, :num_components]                                         #\n",
    "S_reduced = np.diag(S_reduced[:num_components])                                   #\n",
    "V_reduced = Vt_reduced[:num_components, :]                                        #\n",
    "                                                                                  #\n",
    "reduced_user_input = np.dot(U_reduced, np.dot(S_reduced, V_reduced))              #\n",
    "reduced_output = reduced_index.search(reduced_user_input, n)                      #\n",
    "###################################################################################\n",
    "\n",
    "# Смотрим какие описания нашли\n",
    "for i in range(n):\n",
    "    print(df.iloc[reduced_output[1][0][i]].loc['description'])"
   ]
  },
  {
   "cell_type": "markdown",
   "id": "86b09487",
   "metadata": {},
   "source": [
    "### Сохранение embeddings и загрузка"
   ]
  },
  {
   "cell_type": "code",
   "execution_count": 20,
   "id": "4fb95334",
   "metadata": {},
   "outputs": [],
   "source": [
    " #  np.save('/home/valera/ds_bootcamp/ds-phase-2/11-nn-ext/progect/test.npy', embeddings )\n",
    " #  np.load('resources/embeding.npy')"
   ]
  },
  {
   "cell_type": "markdown",
   "id": "f2cb9f34",
   "metadata": {},
   "source": [
    "#### Получения уникальных данных для преобразования в лист \n"
   ]
  },
  {
   "cell_type": "code",
   "execution_count": 31,
   "id": "9a994ad3",
   "metadata": {},
   "outputs": [],
   "source": [
    "# Получание списка, для использования в фильтре\n",
    "lst_genre = []\n",
    "for i in df['genres'].unique():\n",
    "    for q in i.split(' '):\n",
    "        if q in lst_genre:\n",
    "            pass\n",
    "        else:\n",
    "            lst_genre.append(q)"
   ]
  },
  {
   "cell_type": "code",
   "execution_count": 33,
   "id": "36b870b3",
   "metadata": {},
   "outputs": [],
   "source": [
    "lst_genre =['триллер,','боевик','драма,','комедия','мелодрама,','комедия,','детектив,','криминал','боевик,','фантастика,','фэнтези','детский,','семейный','фантастика', \n",
    "            'короткометражный','детектив','мелодрама','драма','триллер','мультфильмы,','приключения','короткометражный,','мультфильмы','приключения,',\n",
    "            'семейный,','документальный','ужасы','биография','криминал,','документальный,','исторический,','аниме,','вестерн','ужасы,','спорт',\n",
    "            'музыкальный','военный,','мюзикл','исторический','Нет','данных','биография,','вестерн,','мюзикл,','военный','музыкальный,','детский','эротика','фэнтези,','аниме']"
   ]
  },
  {
   "cell_type": "code",
   "execution_count": null,
   "id": "8ec6edd8",
   "metadata": {},
   "outputs": [],
   "source": [
    "for i in df['actors'].iloc[:50]:\n",
    "    for q in i.split(', '):\n",
    "        print(q)"
   ]
  },
  {
   "cell_type": "code",
   "execution_count": null,
   "id": "c0611cac",
   "metadata": {},
   "outputs": [],
   "source": [
    "lst_actor = []\n",
    "for i in df['actors']:\n",
    "    for q in i.split(', '):\n",
    "\n",
    "        if q in lst_actor:\n",
    "            pass\n",
    "        else:\n",
    "            lst_actor.append(q)\n",
    "        \n",
    "    "
   ]
  },
  {
   "cell_type": "markdown",
   "id": "31e8b150",
   "metadata": {},
   "source": [
    "#### Для больших листов, можно использовать для сохранения в файл"
   ]
  },
  {
   "cell_type": "code",
   "execution_count": null,
   "id": "09eeaad0",
   "metadata": {},
   "outputs": [],
   "source": [
    "import pickle\n",
    "with open('/home/valera/ds_bootcamp/ds-phase-2/11-nn-ext/progect/lst_actor.pkl', 'wb') as f:\n",
    "    pickle.dump(lst_actor, f)\n",
    "    \n",
    "with open('/home/valera/ds_bootcamp/ds-phase-2/11-nn-ext/progect/lst_actor.pkl', 'rb') as f:\n",
    "    lst_actor_loaded = pickle.load(f)"
   ]
  },
  {
   "cell_type": "markdown",
   "id": "22f24b5e",
   "metadata": {},
   "source": [
    "#### Функция для выдачи предсказаний [indices[0]]['movie_title'] заменив название столбца , можна заменить на вывод нужных данных, таких как описание или год фильма"
   ]
  },
  {
   "cell_type": "code",
   "execution_count": 5,
   "id": "a36cbb7e",
   "metadata": {},
   "outputs": [
    {
     "name": "stdout",
     "output_type": "stream",
     "text": [
      "Они были простыми солдатами\n",
      "Большой секрет для маленькой компании\n",
      "Дорога в погибель\n",
      "Рита, Сью и Боб тоже\n",
      "Свои не свои\n"
     ]
    }
   ],
   "source": [
    "  # Функция для поиска фильмов по сходству\n",
    "def find_similar_movies(user_input, top_n=5):\n",
    "    user_input = model.encode(user_input)\n",
    "    user_input = user_input.reshape(1,-1)\n",
    "    distances, indices = index.search(user_input, top_n)\n",
    "    similar_movies = df.iloc[indices[0]]['movie_title']\n",
    "    #return list(indices[0])\n",
    "    for i in similar_movies:\n",
    "        print(i)\n",
    "        \n",
    "find_similar_movies('фильм про собак')"
   ]
  },
  {
   "cell_type": "markdown",
   "id": "1aab783d",
   "metadata": {},
   "source": [
    "#### Ниже функций фильтов и их проверки\n"
   ]
  },
  {
   "cell_type": "code",
   "execution_count": 65,
   "id": "5d58e337",
   "metadata": {},
   "outputs": [],
   "source": [
    "#Фильтры\n",
    "test = ['эротика']\n",
    "target_set = set(test)\n",
    "# фильтруем DataFrame\n",
    "df[df['genres'].apply(lambda x: target_set.issubset(x.split(', ')))]\n"
   ]
  },
  {
   "cell_type": "code",
   "execution_count": 68,
   "id": "7c48a3ac",
   "metadata": {},
   "outputs": [
    {
     "name": "stdout",
     "output_type": "stream",
     "text": [
      "эротика\n",
      "эротика\n",
      "эротика\n",
      "триллер, эротика\n",
      "эротика\n"
     ]
    }
   ],
   "source": [
    "  # Функция для поиска фильмов по сходству\n",
    "def find_similar_movies(user_input, top_n=5):\n",
    "    user_input = model.encode(user_input)\n",
    "    user_input = user_input.reshape(1,-1)\n",
    "    distances, indices = index.search(user_input, top_n)\n",
    "    similar_movies = df.iloc[indices[0]]['genres']\n",
    "    #return list(indices[0])\n",
    "    for i in similar_movies:\n",
    "        print(i)\n",
    "        \n",
    "find_similar_movies('xktys')"
   ]
  },
  {
   "cell_type": "code",
   "execution_count": 11,
   "id": "02a345b8",
   "metadata": {},
   "outputs": [],
   "source": [
    "min = 2013\n",
    "max = 2014"
   ]
  },
  {
   "cell_type": "code",
   "execution_count": 47,
   "id": "8ca6b498",
   "metadata": {},
   "outputs": [
    {
     "ename": "TypeError",
     "evalue": "'>=' not supported between instances of 'int' and 'builtin_function_or_method'",
     "output_type": "error",
     "traceback": [
      "\u001b[0;31m---------------------------------------------------------------------------\u001b[0m",
      "\u001b[0;31mTypeError\u001b[0m                                 Traceback (most recent call last)",
      "Cell \u001b[0;32mIn[47], line 1\u001b[0m\n\u001b[0;32m----> 1\u001b[0m df2 \u001b[38;5;241m=\u001b[39m df[(\u001b[43mdf\u001b[49m\u001b[43m[\u001b[49m\u001b[38;5;124;43m'\u001b[39;49m\u001b[38;5;124;43myear\u001b[39;49m\u001b[38;5;124;43m'\u001b[39;49m\u001b[43m]\u001b[49m\u001b[43m \u001b[49m\u001b[38;5;241;43m>\u001b[39;49m\u001b[38;5;241;43m=\u001b[39;49m\u001b[43m \u001b[49m\u001b[38;5;28;43mmin\u001b[39;49m) \u001b[38;5;241m&\u001b[39m (df[\u001b[38;5;124m'\u001b[39m\u001b[38;5;124myear\u001b[39m\u001b[38;5;124m'\u001b[39m] \u001b[38;5;241m<\u001b[39m\u001b[38;5;241m=\u001b[39m \u001b[38;5;28mmax\u001b[39m)]\n",
      "File \u001b[0;32m~/ds_bootcamp/ds-phase-2/10-nlp/myenv_week8/lib/python3.10/site-packages/pandas/core/ops/common.py:76\u001b[0m, in \u001b[0;36m_unpack_zerodim_and_defer.<locals>.new_method\u001b[0;34m(self, other)\u001b[0m\n\u001b[1;32m     72\u001b[0m             \u001b[38;5;28;01mreturn\u001b[39;00m \u001b[38;5;28mNotImplemented\u001b[39m\n\u001b[1;32m     74\u001b[0m other \u001b[38;5;241m=\u001b[39m item_from_zerodim(other)\n\u001b[0;32m---> 76\u001b[0m \u001b[38;5;28;01mreturn\u001b[39;00m \u001b[43mmethod\u001b[49m\u001b[43m(\u001b[49m\u001b[38;5;28;43mself\u001b[39;49m\u001b[43m,\u001b[49m\u001b[43m \u001b[49m\u001b[43mother\u001b[49m\u001b[43m)\u001b[49m\n",
      "File \u001b[0;32m~/ds_bootcamp/ds-phase-2/10-nlp/myenv_week8/lib/python3.10/site-packages/pandas/core/arraylike.py:60\u001b[0m, in \u001b[0;36mOpsMixin.__ge__\u001b[0;34m(self, other)\u001b[0m\n\u001b[1;32m     58\u001b[0m \u001b[38;5;129m@unpack_zerodim_and_defer\u001b[39m(\u001b[38;5;124m\"\u001b[39m\u001b[38;5;124m__ge__\u001b[39m\u001b[38;5;124m\"\u001b[39m)\n\u001b[1;32m     59\u001b[0m \u001b[38;5;28;01mdef\u001b[39;00m \u001b[38;5;21m__ge__\u001b[39m(\u001b[38;5;28mself\u001b[39m, other):\n\u001b[0;32m---> 60\u001b[0m     \u001b[38;5;28;01mreturn\u001b[39;00m \u001b[38;5;28;43mself\u001b[39;49m\u001b[38;5;241;43m.\u001b[39;49m\u001b[43m_cmp_method\u001b[49m\u001b[43m(\u001b[49m\u001b[43mother\u001b[49m\u001b[43m,\u001b[49m\u001b[43m \u001b[49m\u001b[43moperator\u001b[49m\u001b[38;5;241;43m.\u001b[39;49m\u001b[43mge\u001b[49m\u001b[43m)\u001b[49m\n",
      "File \u001b[0;32m~/ds_bootcamp/ds-phase-2/10-nlp/myenv_week8/lib/python3.10/site-packages/pandas/core/series.py:6110\u001b[0m, in \u001b[0;36mSeries._cmp_method\u001b[0;34m(self, other, op)\u001b[0m\n\u001b[1;32m   6107\u001b[0m lvalues \u001b[38;5;241m=\u001b[39m \u001b[38;5;28mself\u001b[39m\u001b[38;5;241m.\u001b[39m_values\n\u001b[1;32m   6108\u001b[0m rvalues \u001b[38;5;241m=\u001b[39m extract_array(other, extract_numpy\u001b[38;5;241m=\u001b[39m\u001b[38;5;28;01mTrue\u001b[39;00m, extract_range\u001b[38;5;241m=\u001b[39m\u001b[38;5;28;01mTrue\u001b[39;00m)\n\u001b[0;32m-> 6110\u001b[0m res_values \u001b[38;5;241m=\u001b[39m \u001b[43mops\u001b[49m\u001b[38;5;241;43m.\u001b[39;49m\u001b[43mcomparison_op\u001b[49m\u001b[43m(\u001b[49m\u001b[43mlvalues\u001b[49m\u001b[43m,\u001b[49m\u001b[43m \u001b[49m\u001b[43mrvalues\u001b[49m\u001b[43m,\u001b[49m\u001b[43m \u001b[49m\u001b[43mop\u001b[49m\u001b[43m)\u001b[49m\n\u001b[1;32m   6112\u001b[0m \u001b[38;5;28;01mreturn\u001b[39;00m \u001b[38;5;28mself\u001b[39m\u001b[38;5;241m.\u001b[39m_construct_result(res_values, name\u001b[38;5;241m=\u001b[39mres_name)\n",
      "File \u001b[0;32m~/ds_bootcamp/ds-phase-2/10-nlp/myenv_week8/lib/python3.10/site-packages/pandas/core/ops/array_ops.py:347\u001b[0m, in \u001b[0;36mcomparison_op\u001b[0;34m(left, right, op)\u001b[0m\n\u001b[1;32m    344\u001b[0m     res_values \u001b[38;5;241m=\u001b[39m comp_method_OBJECT_ARRAY(op, lvalues, rvalues)\n\u001b[1;32m    346\u001b[0m \u001b[38;5;28;01melse\u001b[39;00m:\n\u001b[0;32m--> 347\u001b[0m     res_values \u001b[38;5;241m=\u001b[39m \u001b[43m_na_arithmetic_op\u001b[49m\u001b[43m(\u001b[49m\u001b[43mlvalues\u001b[49m\u001b[43m,\u001b[49m\u001b[43m \u001b[49m\u001b[43mrvalues\u001b[49m\u001b[43m,\u001b[49m\u001b[43m \u001b[49m\u001b[43mop\u001b[49m\u001b[43m,\u001b[49m\u001b[43m \u001b[49m\u001b[43mis_cmp\u001b[49m\u001b[38;5;241;43m=\u001b[39;49m\u001b[38;5;28;43;01mTrue\u001b[39;49;00m\u001b[43m)\u001b[49m\n\u001b[1;32m    349\u001b[0m \u001b[38;5;28;01mreturn\u001b[39;00m res_values\n",
      "File \u001b[0;32m~/ds_bootcamp/ds-phase-2/10-nlp/myenv_week8/lib/python3.10/site-packages/pandas/core/ops/array_ops.py:218\u001b[0m, in \u001b[0;36m_na_arithmetic_op\u001b[0;34m(left, right, op, is_cmp)\u001b[0m\n\u001b[1;32m    215\u001b[0m     func \u001b[38;5;241m=\u001b[39m partial(expressions\u001b[38;5;241m.\u001b[39mevaluate, op)\n\u001b[1;32m    217\u001b[0m \u001b[38;5;28;01mtry\u001b[39;00m:\n\u001b[0;32m--> 218\u001b[0m     result \u001b[38;5;241m=\u001b[39m \u001b[43mfunc\u001b[49m\u001b[43m(\u001b[49m\u001b[43mleft\u001b[49m\u001b[43m,\u001b[49m\u001b[43m \u001b[49m\u001b[43mright\u001b[49m\u001b[43m)\u001b[49m\n\u001b[1;32m    219\u001b[0m \u001b[38;5;28;01mexcept\u001b[39;00m \u001b[38;5;167;01mTypeError\u001b[39;00m:\n\u001b[1;32m    220\u001b[0m     \u001b[38;5;28;01mif\u001b[39;00m \u001b[38;5;129;01mnot\u001b[39;00m is_cmp \u001b[38;5;129;01mand\u001b[39;00m (\n\u001b[1;32m    221\u001b[0m         left\u001b[38;5;241m.\u001b[39mdtype \u001b[38;5;241m==\u001b[39m \u001b[38;5;28mobject\u001b[39m \u001b[38;5;129;01mor\u001b[39;00m \u001b[38;5;28mgetattr\u001b[39m(right, \u001b[38;5;124m\"\u001b[39m\u001b[38;5;124mdtype\u001b[39m\u001b[38;5;124m\"\u001b[39m, \u001b[38;5;28;01mNone\u001b[39;00m) \u001b[38;5;241m==\u001b[39m \u001b[38;5;28mobject\u001b[39m\n\u001b[1;32m    222\u001b[0m     ):\n\u001b[0;32m   (...)\u001b[0m\n\u001b[1;32m    225\u001b[0m         \u001b[38;5;66;03m# Don't do this for comparisons, as that will handle complex numbers\u001b[39;00m\n\u001b[1;32m    226\u001b[0m         \u001b[38;5;66;03m#  incorrectly, see GH#32047\u001b[39;00m\n",
      "File \u001b[0;32m~/ds_bootcamp/ds-phase-2/10-nlp/myenv_week8/lib/python3.10/site-packages/pandas/core/computation/expressions.py:242\u001b[0m, in \u001b[0;36mevaluate\u001b[0;34m(op, a, b, use_numexpr)\u001b[0m\n\u001b[1;32m    239\u001b[0m \u001b[38;5;28;01mif\u001b[39;00m op_str \u001b[38;5;129;01mis\u001b[39;00m \u001b[38;5;129;01mnot\u001b[39;00m \u001b[38;5;28;01mNone\u001b[39;00m:\n\u001b[1;32m    240\u001b[0m     \u001b[38;5;28;01mif\u001b[39;00m use_numexpr:\n\u001b[1;32m    241\u001b[0m         \u001b[38;5;66;03m# error: \"None\" not callable\u001b[39;00m\n\u001b[0;32m--> 242\u001b[0m         \u001b[38;5;28;01mreturn\u001b[39;00m \u001b[43m_evaluate\u001b[49m\u001b[43m(\u001b[49m\u001b[43mop\u001b[49m\u001b[43m,\u001b[49m\u001b[43m \u001b[49m\u001b[43mop_str\u001b[49m\u001b[43m,\u001b[49m\u001b[43m \u001b[49m\u001b[43ma\u001b[49m\u001b[43m,\u001b[49m\u001b[43m \u001b[49m\u001b[43mb\u001b[49m\u001b[43m)\u001b[49m  \u001b[38;5;66;03m# type: ignore[misc]\u001b[39;00m\n\u001b[1;32m    243\u001b[0m \u001b[38;5;28;01mreturn\u001b[39;00m _evaluate_standard(op, op_str, a, b)\n",
      "File \u001b[0;32m~/ds_bootcamp/ds-phase-2/10-nlp/myenv_week8/lib/python3.10/site-packages/pandas/core/computation/expressions.py:73\u001b[0m, in \u001b[0;36m_evaluate_standard\u001b[0;34m(op, op_str, a, b)\u001b[0m\n\u001b[1;32m     71\u001b[0m \u001b[38;5;28;01mif\u001b[39;00m _TEST_MODE:\n\u001b[1;32m     72\u001b[0m     _store_test_result(\u001b[38;5;28;01mFalse\u001b[39;00m)\n\u001b[0;32m---> 73\u001b[0m \u001b[38;5;28;01mreturn\u001b[39;00m \u001b[43mop\u001b[49m\u001b[43m(\u001b[49m\u001b[43ma\u001b[49m\u001b[43m,\u001b[49m\u001b[43m \u001b[49m\u001b[43mb\u001b[49m\u001b[43m)\u001b[49m\n",
      "\u001b[0;31mTypeError\u001b[0m: '>=' not supported between instances of 'int' and 'builtin_function_or_method'"
     ]
    }
   ],
   "source": [
    "df[(df['year'] >= min) & (df['year'] <= max)]"
   ]
  },
  {
   "cell_type": "code",
   "execution_count": 5,
   "id": "a43036f6",
   "metadata": {},
   "outputs": [
    {
     "ename": "NameError",
     "evalue": "name 'df' is not defined",
     "output_type": "error",
     "traceback": [
      "\u001b[0;31m---------------------------------------------------------------------------\u001b[0m",
      "\u001b[0;31mNameError\u001b[0m                                 Traceback (most recent call last)",
      "Cell \u001b[0;32mIn[5], line 4\u001b[0m\n\u001b[1;32m      2\u001b[0m target_set \u001b[38;5;241m=\u001b[39m \u001b[38;5;28mset\u001b[39m(test)\n\u001b[1;32m      3\u001b[0m \u001b[38;5;66;03m# фильтруем DataFrame\u001b[39;00m\n\u001b[0;32m----> 4\u001b[0m \u001b[43mdf\u001b[49m[df[\u001b[38;5;124m'\u001b[39m\u001b[38;5;124mactors\u001b[39m\u001b[38;5;124m'\u001b[39m]\u001b[38;5;241m.\u001b[39mapply(\u001b[38;5;28;01mlambda\u001b[39;00m x: target_set\u001b[38;5;241m.\u001b[39missubset(x\u001b[38;5;241m.\u001b[39msplit(\u001b[38;5;124m'\u001b[39m\u001b[38;5;124m, \u001b[39m\u001b[38;5;124m'\u001b[39m)))]\n",
      "\u001b[0;31mNameError\u001b[0m: name 'df' is not defined"
     ]
    }
   ],
   "source": [
    "# Фильтр актеров\n",
    "test = ['Арбен Байрактарай']\n",
    "target_set = set(test)\n",
    "# фильтруем DataFrame\n",
    "df[df['actors'].apply(lambda x: target_set.issubset(x.split(', ')))]"
   ]
  },
  {
   "cell_type": "code",
   "execution_count": 80,
   "id": "f0a8a768",
   "metadata": {},
   "outputs": [],
   "source": []
  },
  {
   "cell_type": "code",
   "execution_count": 81,
   "id": "9f4b751d",
   "metadata": {},
   "outputs": [],
   "source": []
  }
 ],
 "metadata": {
  "kernelspec": {
   "display_name": "Python 3 (ipykernel)",
   "language": "python",
   "name": "python3"
  },
  "language_info": {
   "codemirror_mode": {
    "name": "ipython",
    "version": 3
   },
   "file_extension": ".py",
   "mimetype": "text/x-python",
   "name": "python",
   "nbconvert_exporter": "python",
   "pygments_lexer": "ipython3",
   "version": "3.10.13"
  }
 },
 "nbformat": 4,
 "nbformat_minor": 5
}
